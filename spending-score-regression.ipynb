{
 "cells": [
  {
   "cell_type": "code",
   "execution_count": 1,
   "id": "7ae99966",
   "metadata": {
    "_cell_guid": "b1076dfc-b9ad-4769-8c92-a6c4dae69d19",
    "_uuid": "8f2839f25d086af736a60e9eeb907d3b93b6e0e5",
    "execution": {
     "iopub.execute_input": "2023-04-19T03:45:52.340016Z",
     "iopub.status.busy": "2023-04-19T03:45:52.339443Z",
     "iopub.status.idle": "2023-04-19T03:45:52.360464Z",
     "shell.execute_reply": "2023-04-19T03:45:52.359225Z"
    },
    "papermill": {
     "duration": 0.03342,
     "end_time": "2023-04-19T03:45:52.363450",
     "exception": false,
     "start_time": "2023-04-19T03:45:52.330030",
     "status": "completed"
    },
    "tags": []
   },
   "outputs": [
    {
     "name": "stdout",
     "output_type": "stream",
     "text": [
      "/kaggle/input/customers-dataset/Customers.csv\n"
     ]
    }
   ],
   "source": [
    "# This Python 3 environment comes with many helpful analytics libraries installed\n",
    "# It is defined by the kaggle/python Docker image: https://github.com/kaggle/docker-python\n",
    "# For example, here's several helpful packages to load\n",
    "\n",
    "import numpy as np # linear algebra\n",
    "import pandas as pd # data processing, CSV file I/O (e.g. pd.read_csv)\n",
    "\n",
    "# Input data files are available in the read-only \"../input/\" directory\n",
    "# For example, running this (by clicking run or pressing Shift+Enter) will list all files under the input directory\n",
    "\n",
    "import os\n",
    "for dirname, _, filenames in os.walk('/kaggle/input'):\n",
    "    for filename in filenames:\n",
    "        print(os.path.join(dirname, filename))\n",
    "\n",
    "# You can write up to 20GB to the current directory (/kaggle/working/) that gets preserved as output when you create a version using \"Save & Run All\" \n",
    "# You can also write temporary files to /kaggle/temp/, but they won't be saved outside of the current session"
   ]
  },
  {
   "cell_type": "code",
   "execution_count": 2,
   "id": "7fbdd42a",
   "metadata": {
    "execution": {
     "iopub.execute_input": "2023-04-19T03:45:52.378162Z",
     "iopub.status.busy": "2023-04-19T03:45:52.377731Z",
     "iopub.status.idle": "2023-04-19T03:45:55.614957Z",
     "shell.execute_reply": "2023-04-19T03:45:55.613562Z"
    },
    "papermill": {
     "duration": 3.247966,
     "end_time": "2023-04-19T03:45:55.617839",
     "exception": false,
     "start_time": "2023-04-19T03:45:52.369873",
     "status": "completed"
    },
    "tags": []
   },
   "outputs": [],
   "source": [
    "import seaborn as sns\n",
    "\n",
    "#For data viz\n",
    "import plotly.express as px\n",
    "import plotly.graph_objs as go\n",
    "import matplotlib.pyplot as plt\n",
    "from matplotlib.pyplot import figure\n",
    "\n",
    "#Data preprocessing\n",
    "from sklearn.preprocessing import LabelEncoder\n",
    "from sklearn.preprocessing import StandardScaler\n",
    "from sklearn.model_selection import train_test_split\n",
    "\n",
    "#Linear regression model\n",
    "from sklearn.linear_model import LinearRegression"
   ]
  },
  {
   "cell_type": "markdown",
   "id": "09e9c78f",
   "metadata": {
    "papermill": {
     "duration": 0.006111,
     "end_time": "2023-04-19T03:45:55.630268",
     "exception": false,
     "start_time": "2023-04-19T03:45:55.624157",
     "status": "completed"
    },
    "tags": []
   },
   "source": [
    "Goal: Find the demographic with the highest probability of having a high (>70) spending score. This allows a (hyopthetical) company/store to target their top spender audiences more heavily."
   ]
  },
  {
   "cell_type": "markdown",
   "id": "9b5781d5",
   "metadata": {
    "papermill": {
     "duration": 0.00571,
     "end_time": "2023-04-19T03:45:55.642217",
     "exception": false,
     "start_time": "2023-04-19T03:45:55.636507",
     "status": "completed"
    },
    "tags": []
   },
   "source": [
    "Read the file in\n",
    "Take a peak at the df to see its format"
   ]
  },
  {
   "cell_type": "code",
   "execution_count": 3,
   "id": "31909779",
   "metadata": {
    "execution": {
     "iopub.execute_input": "2023-04-19T03:45:55.656310Z",
     "iopub.status.busy": "2023-04-19T03:45:55.655865Z",
     "iopub.status.idle": "2023-04-19T03:45:55.700999Z",
     "shell.execute_reply": "2023-04-19T03:45:55.699763Z"
    },
    "papermill": {
     "duration": 0.055095,
     "end_time": "2023-04-19T03:45:55.703449",
     "exception": false,
     "start_time": "2023-04-19T03:45:55.648354",
     "status": "completed"
    },
    "tags": []
   },
   "outputs": [
    {
     "data": {
      "text/html": [
       "<div>\n",
       "<style scoped>\n",
       "    .dataframe tbody tr th:only-of-type {\n",
       "        vertical-align: middle;\n",
       "    }\n",
       "\n",
       "    .dataframe tbody tr th {\n",
       "        vertical-align: top;\n",
       "    }\n",
       "\n",
       "    .dataframe thead th {\n",
       "        text-align: right;\n",
       "    }\n",
       "</style>\n",
       "<table border=\"1\" class=\"dataframe\">\n",
       "  <thead>\n",
       "    <tr style=\"text-align: right;\">\n",
       "      <th></th>\n",
       "      <th>CustomerID</th>\n",
       "      <th>Gender</th>\n",
       "      <th>Age</th>\n",
       "      <th>Annual Income ($)</th>\n",
       "      <th>Spending Score (1-100)</th>\n",
       "      <th>Profession</th>\n",
       "      <th>Work Experience</th>\n",
       "      <th>Family Size</th>\n",
       "    </tr>\n",
       "  </thead>\n",
       "  <tbody>\n",
       "    <tr>\n",
       "      <th>0</th>\n",
       "      <td>1</td>\n",
       "      <td>Male</td>\n",
       "      <td>19</td>\n",
       "      <td>15000</td>\n",
       "      <td>39</td>\n",
       "      <td>Healthcare</td>\n",
       "      <td>1</td>\n",
       "      <td>4</td>\n",
       "    </tr>\n",
       "    <tr>\n",
       "      <th>1</th>\n",
       "      <td>2</td>\n",
       "      <td>Male</td>\n",
       "      <td>21</td>\n",
       "      <td>35000</td>\n",
       "      <td>81</td>\n",
       "      <td>Engineer</td>\n",
       "      <td>3</td>\n",
       "      <td>3</td>\n",
       "    </tr>\n",
       "    <tr>\n",
       "      <th>2</th>\n",
       "      <td>3</td>\n",
       "      <td>Female</td>\n",
       "      <td>20</td>\n",
       "      <td>86000</td>\n",
       "      <td>6</td>\n",
       "      <td>Engineer</td>\n",
       "      <td>1</td>\n",
       "      <td>1</td>\n",
       "    </tr>\n",
       "    <tr>\n",
       "      <th>3</th>\n",
       "      <td>4</td>\n",
       "      <td>Female</td>\n",
       "      <td>23</td>\n",
       "      <td>59000</td>\n",
       "      <td>77</td>\n",
       "      <td>Lawyer</td>\n",
       "      <td>0</td>\n",
       "      <td>2</td>\n",
       "    </tr>\n",
       "    <tr>\n",
       "      <th>4</th>\n",
       "      <td>5</td>\n",
       "      <td>Female</td>\n",
       "      <td>31</td>\n",
       "      <td>38000</td>\n",
       "      <td>40</td>\n",
       "      <td>Entertainment</td>\n",
       "      <td>2</td>\n",
       "      <td>6</td>\n",
       "    </tr>\n",
       "  </tbody>\n",
       "</table>\n",
       "</div>"
      ],
      "text/plain": [
       "   CustomerID  Gender  Age  Annual Income ($)  Spending Score (1-100)  \\\n",
       "0           1    Male   19              15000                      39   \n",
       "1           2    Male   21              35000                      81   \n",
       "2           3  Female   20              86000                       6   \n",
       "3           4  Female   23              59000                      77   \n",
       "4           5  Female   31              38000                      40   \n",
       "\n",
       "      Profession  Work Experience  Family Size  \n",
       "0     Healthcare                1            4  \n",
       "1       Engineer                3            3  \n",
       "2       Engineer                1            1  \n",
       "3         Lawyer                0            2  \n",
       "4  Entertainment                2            6  "
      ]
     },
     "execution_count": 3,
     "metadata": {},
     "output_type": "execute_result"
    }
   ],
   "source": [
    "file_path = '/kaggle/input/customers-dataset/Customers.csv'\n",
    "df = pd.read_csv(file_path)\n",
    "df.head()"
   ]
  },
  {
   "cell_type": "markdown",
   "id": "29998bd8",
   "metadata": {
    "papermill": {
     "duration": 0.006062,
     "end_time": "2023-04-19T03:45:55.715960",
     "exception": false,
     "start_time": "2023-04-19T03:45:55.709898",
     "status": "completed"
    },
    "tags": []
   },
   "source": [
    "Create dataframes for splitting training and testing data after some data viz"
   ]
  },
  {
   "cell_type": "code",
   "execution_count": 4,
   "id": "85df72e4",
   "metadata": {
    "execution": {
     "iopub.execute_input": "2023-04-19T03:45:55.731150Z",
     "iopub.status.busy": "2023-04-19T03:45:55.730646Z",
     "iopub.status.idle": "2023-04-19T03:45:55.745854Z",
     "shell.execute_reply": "2023-04-19T03:45:55.744352Z"
    },
    "papermill": {
     "duration": 0.026168,
     "end_time": "2023-04-19T03:45:55.748509",
     "exception": false,
     "start_time": "2023-04-19T03:45:55.722341",
     "status": "completed"
    },
    "tags": []
   },
   "outputs": [],
   "source": [
    "X = df.drop(columns=['CustomerID'])\n",
    "X = X.drop(columns=['Spending Score (1-100)'])\n",
    "y = df['Spending Score (1-100)']"
   ]
  },
  {
   "cell_type": "markdown",
   "id": "55b2f4c0",
   "metadata": {
    "papermill": {
     "duration": 0.006036,
     "end_time": "2023-04-19T03:45:55.760865",
     "exception": false,
     "start_time": "2023-04-19T03:45:55.754829",
     "status": "completed"
    },
    "tags": []
   },
   "source": [
    "Initial thoughts on data and what is needed to create model for prediction:\n",
    "\n",
    "1) Gender, age, annual income, profession, family size distributions and their correlations to spending score\n",
    "\n",
    "2) Work experience and annual income are likely to be highly correlated, but should still confirm. If not, then add 'Work Experience' to (1)\n",
    "\n",
    "Going to use linear regression to predict spending score"
   ]
  },
  {
   "cell_type": "markdown",
   "id": "800e6dc0",
   "metadata": {
    "papermill": {
     "duration": 0.005972,
     "end_time": "2023-04-19T03:45:55.773089",
     "exception": false,
     "start_time": "2023-04-19T03:45:55.767117",
     "status": "completed"
    },
    "tags": []
   },
   "source": [
    "Do a quick check on the dataframe to see what data types, and values are missing"
   ]
  },
  {
   "cell_type": "code",
   "execution_count": 5,
   "id": "667b9275",
   "metadata": {
    "execution": {
     "iopub.execute_input": "2023-04-19T03:45:55.787306Z",
     "iopub.status.busy": "2023-04-19T03:45:55.786905Z",
     "iopub.status.idle": "2023-04-19T03:45:55.808070Z",
     "shell.execute_reply": "2023-04-19T03:45:55.806860Z"
    },
    "papermill": {
     "duration": 0.031191,
     "end_time": "2023-04-19T03:45:55.810535",
     "exception": false,
     "start_time": "2023-04-19T03:45:55.779344",
     "status": "completed"
    },
    "tags": []
   },
   "outputs": [
    {
     "name": "stdout",
     "output_type": "stream",
     "text": [
      "<class 'pandas.core.frame.DataFrame'>\n",
      "RangeIndex: 2000 entries, 0 to 1999\n",
      "Data columns (total 8 columns):\n",
      " #   Column                  Non-Null Count  Dtype \n",
      "---  ------                  --------------  ----- \n",
      " 0   CustomerID              2000 non-null   int64 \n",
      " 1   Gender                  2000 non-null   object\n",
      " 2   Age                     2000 non-null   int64 \n",
      " 3   Annual Income ($)       2000 non-null   int64 \n",
      " 4   Spending Score (1-100)  2000 non-null   int64 \n",
      " 5   Profession              1965 non-null   object\n",
      " 6   Work Experience         2000 non-null   int64 \n",
      " 7   Family Size             2000 non-null   int64 \n",
      "dtypes: int64(6), object(2)\n",
      "memory usage: 125.1+ KB\n"
     ]
    }
   ],
   "source": [
    "df.info()"
   ]
  },
  {
   "cell_type": "markdown",
   "id": "8314de4f",
   "metadata": {
    "papermill": {
     "duration": 0.006125,
     "end_time": "2023-04-19T03:45:55.823084",
     "exception": false,
     "start_time": "2023-04-19T03:45:55.816959",
     "status": "completed"
    },
    "tags": []
   },
   "source": [
    "We note that all features are full, except for 'Profession' feature, where 35 values are null"
   ]
  },
  {
   "cell_type": "markdown",
   "id": "07fc8103",
   "metadata": {
    "papermill": {
     "duration": 0.006067,
     "end_time": "2023-04-19T03:45:55.836659",
     "exception": false,
     "start_time": "2023-04-19T03:45:55.830592",
     "status": "completed"
    },
    "tags": []
   },
   "source": [
    "Quick function call to confirm null values"
   ]
  },
  {
   "cell_type": "code",
   "execution_count": 6,
   "id": "1b9e240b",
   "metadata": {
    "execution": {
     "iopub.execute_input": "2023-04-19T03:45:55.851658Z",
     "iopub.status.busy": "2023-04-19T03:45:55.851177Z",
     "iopub.status.idle": "2023-04-19T03:45:55.861489Z",
     "shell.execute_reply": "2023-04-19T03:45:55.860091Z"
    },
    "papermill": {
     "duration": 0.021204,
     "end_time": "2023-04-19T03:45:55.864326",
     "exception": false,
     "start_time": "2023-04-19T03:45:55.843122",
     "status": "completed"
    },
    "tags": []
   },
   "outputs": [
    {
     "data": {
      "text/plain": [
       "CustomerID                 0\n",
       "Gender                     0\n",
       "Age                        0\n",
       "Annual Income ($)          0\n",
       "Spending Score (1-100)     0\n",
       "Profession                35\n",
       "Work Experience            0\n",
       "Family Size                0\n",
       "dtype: int64"
      ]
     },
     "execution_count": 6,
     "metadata": {},
     "output_type": "execute_result"
    }
   ],
   "source": [
    "df.isnull().sum()"
   ]
  },
  {
   "cell_type": "markdown",
   "id": "797411b4",
   "metadata": {
    "papermill": {
     "duration": 0.006399,
     "end_time": "2023-04-19T03:45:55.877470",
     "exception": false,
     "start_time": "2023-04-19T03:45:55.871071",
     "status": "completed"
    },
    "tags": []
   },
   "source": [
    "Time to start the data visualization/analysis to prepare the data for the model."
   ]
  },
  {
   "cell_type": "code",
   "execution_count": 7,
   "id": "2451f334",
   "metadata": {
    "execution": {
     "iopub.execute_input": "2023-04-19T03:45:55.893920Z",
     "iopub.status.busy": "2023-04-19T03:45:55.892615Z",
     "iopub.status.idle": "2023-04-19T03:45:55.914156Z",
     "shell.execute_reply": "2023-04-19T03:45:55.912890Z"
    },
    "papermill": {
     "duration": 0.032398,
     "end_time": "2023-04-19T03:45:55.916561",
     "exception": false,
     "start_time": "2023-04-19T03:45:55.884163",
     "status": "completed"
    },
    "tags": []
   },
   "outputs": [
    {
     "data": {
      "text/html": [
       "<div>\n",
       "<style scoped>\n",
       "    .dataframe tbody tr th:only-of-type {\n",
       "        vertical-align: middle;\n",
       "    }\n",
       "\n",
       "    .dataframe tbody tr th {\n",
       "        vertical-align: top;\n",
       "    }\n",
       "\n",
       "    .dataframe thead th {\n",
       "        text-align: right;\n",
       "    }\n",
       "</style>\n",
       "<table border=\"1\" class=\"dataframe\">\n",
       "  <thead>\n",
       "    <tr style=\"text-align: right;\">\n",
       "      <th></th>\n",
       "      <th>Gender</th>\n",
       "      <th>Age</th>\n",
       "      <th>Annual Income ($)</th>\n",
       "      <th>Profession</th>\n",
       "      <th>Work Experience</th>\n",
       "      <th>Family Size</th>\n",
       "    </tr>\n",
       "  </thead>\n",
       "  <tbody>\n",
       "    <tr>\n",
       "      <th>Gender</th>\n",
       "      <td>1.000000</td>\n",
       "      <td>0.005821</td>\n",
       "      <td>0.004701</td>\n",
       "      <td>0.008862</td>\n",
       "      <td>0.020651</td>\n",
       "      <td>0.000228</td>\n",
       "    </tr>\n",
       "    <tr>\n",
       "      <th>Age</th>\n",
       "      <td>0.005821</td>\n",
       "      <td>1.000000</td>\n",
       "      <td>0.021378</td>\n",
       "      <td>-0.022848</td>\n",
       "      <td>-0.014319</td>\n",
       "      <td>0.038254</td>\n",
       "    </tr>\n",
       "    <tr>\n",
       "      <th>Annual Income ($)</th>\n",
       "      <td>0.004701</td>\n",
       "      <td>0.021378</td>\n",
       "      <td>1.000000</td>\n",
       "      <td>0.020446</td>\n",
       "      <td>0.089136</td>\n",
       "      <td>0.093005</td>\n",
       "    </tr>\n",
       "    <tr>\n",
       "      <th>Profession</th>\n",
       "      <td>0.008862</td>\n",
       "      <td>-0.022848</td>\n",
       "      <td>0.020446</td>\n",
       "      <td>1.000000</td>\n",
       "      <td>-0.002378</td>\n",
       "      <td>0.046138</td>\n",
       "    </tr>\n",
       "    <tr>\n",
       "      <th>Work Experience</th>\n",
       "      <td>0.020651</td>\n",
       "      <td>-0.014319</td>\n",
       "      <td>0.089136</td>\n",
       "      <td>-0.002378</td>\n",
       "      <td>1.000000</td>\n",
       "      <td>0.011873</td>\n",
       "    </tr>\n",
       "    <tr>\n",
       "      <th>Family Size</th>\n",
       "      <td>0.000228</td>\n",
       "      <td>0.038254</td>\n",
       "      <td>0.093005</td>\n",
       "      <td>0.046138</td>\n",
       "      <td>0.011873</td>\n",
       "      <td>1.000000</td>\n",
       "    </tr>\n",
       "  </tbody>\n",
       "</table>\n",
       "</div>"
      ],
      "text/plain": [
       "                     Gender       Age  Annual Income ($)  Profession  \\\n",
       "Gender             1.000000  0.005821           0.004701    0.008862   \n",
       "Age                0.005821  1.000000           0.021378   -0.022848   \n",
       "Annual Income ($)  0.004701  0.021378           1.000000    0.020446   \n",
       "Profession         0.008862 -0.022848           0.020446    1.000000   \n",
       "Work Experience    0.020651 -0.014319           0.089136   -0.002378   \n",
       "Family Size        0.000228  0.038254           0.093005    0.046138   \n",
       "\n",
       "                   Work Experience  Family Size  \n",
       "Gender                    0.020651     0.000228  \n",
       "Age                      -0.014319     0.038254  \n",
       "Annual Income ($)         0.089136     0.093005  \n",
       "Profession               -0.002378     0.046138  \n",
       "Work Experience           1.000000     0.011873  \n",
       "Family Size               0.011873     1.000000  "
      ]
     },
     "execution_count": 7,
     "metadata": {},
     "output_type": "execute_result"
    }
   ],
   "source": [
    "le = LabelEncoder()\n",
    "X['Gender'] = le.fit_transform(X['Gender'])\n",
    "X['Profession'] = le.fit_transform(X['Profession'])\n",
    "X.corr()"
   ]
  },
  {
   "cell_type": "markdown",
   "id": "07c24fc1",
   "metadata": {
    "papermill": {
     "duration": 0.006556,
     "end_time": "2023-04-19T03:45:55.929981",
     "exception": false,
     "start_time": "2023-04-19T03:45:55.923425",
     "status": "completed"
    },
    "tags": []
   },
   "source": [
    "Fairly low correlations among all features."
   ]
  },
  {
   "cell_type": "code",
   "execution_count": 8,
   "id": "e91c6b99",
   "metadata": {
    "execution": {
     "iopub.execute_input": "2023-04-19T03:45:55.945429Z",
     "iopub.status.busy": "2023-04-19T03:45:55.945021Z",
     "iopub.status.idle": "2023-04-19T03:45:56.185105Z",
     "shell.execute_reply": "2023-04-19T03:45:56.184208Z"
    },
    "papermill": {
     "duration": 0.250547,
     "end_time": "2023-04-19T03:45:56.187226",
     "exception": false,
     "start_time": "2023-04-19T03:45:55.936679",
     "status": "completed"
    },
    "tags": []
   },
   "outputs": [
    {
     "name": "stdout",
     "output_type": "stream",
     "text": [
      "The female percentage of the population is 59.3% and the male percentage is 40.7%\n"
     ]
    },
    {
     "data": {
      "image/png": "[encoded data removed]",
      "text/plain": [
       "<Figure size 640x480 with 1 Axes>"
      ]
     },
     "metadata": {},
     "output_type": "display_data"
    }
   ],
   "source": [
    "gender = ['Female', 'Male']\n",
    "gender_count = df['Gender'].value_counts()\n",
    "fig, axes = plt.subplots()\n",
    "bar_axes = axes.bar(gender, gender_count)\n",
    "axes.set(ylabel='Gender Count', title='Count by Gender')\n",
    "axes.bar_label(bar_axes)\n",
    "\n",
    "female_pct = 1186/2000\n",
    "male_pct = 814/2000\n",
    "\n",
    "print(f\"The female percentage of the population is {female_pct*100}% and the male percentage is {male_pct*100:.1f}%\")"
   ]
  },
  {
   "cell_type": "code",
   "execution_count": 9,
   "id": "9068fb6b",
   "metadata": {
    "execution": {
     "iopub.execute_input": "2023-04-19T03:45:56.203975Z",
     "iopub.status.busy": "2023-04-19T03:45:56.203193Z",
     "iopub.status.idle": "2023-04-19T03:45:56.216186Z",
     "shell.execute_reply": "2023-04-19T03:45:56.214770Z"
    },
    "papermill": {
     "duration": 0.024462,
     "end_time": "2023-04-19T03:45:56.218994",
     "exception": false,
     "start_time": "2023-04-19T03:45:56.194532",
     "status": "completed"
    },
    "tags": []
   },
   "outputs": [
    {
     "data": {
      "text/plain": [
       "count    2000.000000\n",
       "mean       48.960000\n",
       "std        28.429747\n",
       "min         0.000000\n",
       "25%        25.000000\n",
       "50%        48.000000\n",
       "75%        73.000000\n",
       "max        99.000000\n",
       "Name: Age, dtype: float64"
      ]
     },
     "execution_count": 9,
     "metadata": {},
     "output_type": "execute_result"
    }
   ],
   "source": [
    "df['Age'].describe()"
   ]
  },
  {
   "cell_type": "code",
   "execution_count": 10,
   "id": "e30f3531",
   "metadata": {
    "execution": {
     "iopub.execute_input": "2023-04-19T03:45:56.235554Z",
     "iopub.status.busy": "2023-04-19T03:45:56.235103Z",
     "iopub.status.idle": "2023-04-19T03:45:56.372451Z",
     "shell.execute_reply": "2023-04-19T03:45:56.370895Z"
    },
    "papermill": {
     "duration": 0.150656,
     "end_time": "2023-04-19T03:45:56.376910",
     "exception": false,
     "start_time": "2023-04-19T03:45:56.226254",
     "status": "completed"
    },
    "tags": []
   },
   "outputs": [
    {
     "data": {
      "image/png": "[encoded data removed]",
      "text/plain": [
       "<Figure size 500x500 with 1 Axes>"
      ]
     },
     "metadata": {},
     "output_type": "display_data"
    }
   ],
   "source": [
    "age_fig = plt.figure(figsize = (5,5))\n",
    "quantiles = np.quantile(df['Age'], [0, 0.25, 0.5, 0.75, 1])\n",
    "plt.boxplot(df['Age'], vert=False)\n",
    "plt.title(\"Age Distribution Amongst Spenders\")\n",
    "plt.xlabel('Age')\n",
    "plt.yticks([0],[])\n",
    "\n",
    "plt.vlines(quantiles, [0]*quantiles.size, [1]*quantiles.size, color='b', linestyles='dotted', lw=.5, zorder=0)\n",
    "plt.ylim(0.5,1.5)\n",
    "plt.xticks(quantiles)\n",
    "plt.show()"
   ]
  },
  {
   "cell_type": "code",
   "execution_count": 11,
   "id": "155f4640",
   "metadata": {
    "execution": {
     "iopub.execute_input": "2023-04-19T03:45:56.419057Z",
     "iopub.status.busy": "2023-04-19T03:45:56.417680Z",
     "iopub.status.idle": "2023-04-19T03:45:56.430353Z",
     "shell.execute_reply": "2023-04-19T03:45:56.429300Z"
    },
    "papermill": {
     "duration": 0.03621,
     "end_time": "2023-04-19T03:45:56.432492",
     "exception": false,
     "start_time": "2023-04-19T03:45:56.396282",
     "status": "completed"
    },
    "tags": []
   },
   "outputs": [
    {
     "data": {
      "text/plain": [
       "count      2000.000000\n",
       "mean     110731.821500\n",
       "std       45739.536688\n",
       "min           0.000000\n",
       "25%       74572.000000\n",
       "50%      110045.000000\n",
       "75%      149092.750000\n",
       "max      189974.000000\n",
       "Name: Annual Income ($), dtype: float64"
      ]
     },
     "execution_count": 11,
     "metadata": {},
     "output_type": "execute_result"
    }
   ],
   "source": [
    "df['Annual Income ($)'].describe()"
   ]
  },
  {
   "cell_type": "code",
   "execution_count": 12,
   "id": "40227e04",
   "metadata": {
    "execution": {
     "iopub.execute_input": "2023-04-19T03:45:56.449751Z",
     "iopub.status.busy": "2023-04-19T03:45:56.449011Z",
     "iopub.status.idle": "2023-04-19T03:45:56.458880Z",
     "shell.execute_reply": "2023-04-19T03:45:56.457747Z"
    },
    "papermill": {
     "duration": 0.021229,
     "end_time": "2023-04-19T03:45:56.461400",
     "exception": false,
     "start_time": "2023-04-19T03:45:56.440171",
     "status": "completed"
    },
    "tags": []
   },
   "outputs": [
    {
     "data": {
      "text/plain": [
       "count      2000.000000\n",
       "mean     110731.821500\n",
       "std       45739.536688\n",
       "min           0.000000\n",
       "25%       74572.000000\n",
       "50%      110045.000000\n",
       "75%      149092.750000\n",
       "max      189974.000000\n",
       "Name: Annual Income ($), dtype: float64"
      ]
     },
     "execution_count": 12,
     "metadata": {},
     "output_type": "execute_result"
    }
   ],
   "source": [
    "df['Annual Income ($)'].describe()"
   ]
  },
  {
   "cell_type": "code",
   "execution_count": 13,
   "id": "0a536978",
   "metadata": {
    "execution": {
     "iopub.execute_input": "2023-04-19T03:45:56.478325Z",
     "iopub.status.busy": "2023-04-19T03:45:56.477923Z",
     "iopub.status.idle": "2023-04-19T03:45:56.880017Z",
     "shell.execute_reply": "2023-04-19T03:45:56.878796Z"
    },
    "papermill": {
     "duration": 0.413294,
     "end_time": "2023-04-19T03:45:56.882426",
     "exception": false,
     "start_time": "2023-04-19T03:45:56.469132",
     "status": "completed"
    },
    "tags": []
   },
   "outputs": [
    {
     "data": {
      "text/plain": [
       "Text(0, 0.5, 'Count')"
      ]
     },
     "execution_count": 13,
     "metadata": {},
     "output_type": "execute_result"
    },
    {
     "data": {
      "image/png": "[encoded data removed]",
      "text/plain": [
       "<Figure size 640x480 with 1 Axes>"
      ]
     },
     "metadata": {},
     "output_type": "display_data"
    }
   ],
   "source": [
    "plt.hist(df['Annual Income ($)'])\n",
    "plt.ylim(0, 350)\n",
    "plt.title(\"Salary\")\n",
    "plt.xlabel(\"Annual Income ($)\")\n",
    "plt.ylabel(\"Count\")"
   ]
  },
  {
   "cell_type": "markdown",
   "id": "d96e5986",
   "metadata": {
    "papermill": {
     "duration": 0.007894,
     "end_time": "2023-04-19T03:45:56.898791",
     "exception": false,
     "start_time": "2023-04-19T03:45:56.890897",
     "status": "completed"
    },
    "tags": []
   },
   "source": [
    "It looks like this store has mostly high earners shopping here. Distribution is heavy after 62 500."
   ]
  },
  {
   "cell_type": "code",
   "execution_count": 14,
   "id": "a50d6165",
   "metadata": {
    "execution": {
     "iopub.execute_input": "2023-04-19T03:45:56.916804Z",
     "iopub.status.busy": "2023-04-19T03:45:56.916360Z",
     "iopub.status.idle": "2023-04-19T03:45:56.923667Z",
     "shell.execute_reply": "2023-04-19T03:45:56.922526Z"
    },
    "papermill": {
     "duration": 0.019062,
     "end_time": "2023-04-19T03:45:56.926060",
     "exception": false,
     "start_time": "2023-04-19T03:45:56.906998",
     "status": "completed"
    },
    "tags": []
   },
   "outputs": [],
   "source": [
    "profession_count = df['Profession'].value_counts()\n",
    "counts = profession_count.tolist()\n",
    "professions = profession_count.index\n",
    "professions = professions.tolist()\n",
    "professions_dict = {}\n",
    "for i, profession in enumerate(professions):\n",
    "    professions_dict[profession] = counts[i]"
   ]
  },
  {
   "cell_type": "code",
   "execution_count": 15,
   "id": "859f92eb",
   "metadata": {
    "execution": {
     "iopub.execute_input": "2023-04-19T03:45:56.944231Z",
     "iopub.status.busy": "2023-04-19T03:45:56.943799Z",
     "iopub.status.idle": "2023-04-19T03:45:57.189394Z",
     "shell.execute_reply": "2023-04-19T03:45:57.188193Z"
    },
    "papermill": {
     "duration": 0.257846,
     "end_time": "2023-04-19T03:45:57.192083",
     "exception": false,
     "start_time": "2023-04-19T03:45:56.934237",
     "status": "completed"
    },
    "tags": []
   },
   "outputs": [
    {
     "data": {
      "text/plain": [
       "(array([0, 1, 2, 3, 4, 5, 6, 7, 8]),\n",
       " [Text(0, 0, 'Artist'),\n",
       "  Text(1, 0, 'Healthcare'),\n",
       "  Text(2, 0, 'Entertainment'),\n",
       "  Text(3, 0, 'Engineer'),\n",
       "  Text(4, 0, 'Doctor'),\n",
       "  Text(5, 0, 'Executive'),\n",
       "  Text(6, 0, 'Lawyer'),\n",
       "  Text(7, 0, 'Marketing'),\n",
       "  Text(8, 0, 'Homemaker')])"
      ]
     },
     "execution_count": 15,
     "metadata": {},
     "output_type": "execute_result"
    },
    {
     "data": {
      "image/png": "[encoded data removed]",
      "text/plain": [
       "<Figure size 800x500 with 1 Axes>"
      ]
     },
     "metadata": {},
     "output_type": "display_data"
    }
   ],
   "source": [
    "figure(figsize=(8,5))\n",
    "plt.bar(range(len(professions)), professions_dict.values(), tick_label=list(professions_dict.keys()))\n",
    "plt.xticks(fontsize=6.5)"
   ]
  },
  {
   "cell_type": "code",
   "execution_count": null,
   "id": "0cd6f62b",
   "metadata": {
    "papermill": {
     "duration": 0.008504,
     "end_time": "2023-04-19T03:45:57.209445",
     "exception": false,
     "start_time": "2023-04-19T03:45:57.200941",
     "status": "completed"
    },
    "tags": []
   },
   "outputs": [],
   "source": []
  }
 ],
 "metadata": {
  "kernelspec": {
   "display_name": "Python 3",
   "language": "python",
   "name": "python3"
  },
  "language_info": {
   "codemirror_mode": {
    "name": "ipython",
    "version": 3
   },
   "file_extension": ".py",
   "mimetype": "text/x-python",
   "name": "python",
   "nbconvert_exporter": "python",
   "pygments_lexer": "ipython3",
   "version": "3.7.12"
  },
  "papermill": {
   "default_parameters": {},
   "duration": 16.003682,
   "end_time": "2023-04-19T03:45:58.141401",
   "environment_variables": {},
   "exception": null,
   "input_path": "__notebook__.ipynb",
   "output_path": "__notebook__.ipynb",
   "parameters": {},
   "start_time": "2023-04-19T03:45:42.137719",
   "version": "2.4.0"
  }
 },
 "nbformat": 4,
 "nbformat_minor": 5
}
